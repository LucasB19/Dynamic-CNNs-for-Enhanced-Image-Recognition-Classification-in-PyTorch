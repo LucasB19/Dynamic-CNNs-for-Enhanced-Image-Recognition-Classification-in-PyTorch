{
  "nbformat": 4,
  "nbformat_minor": 0,
  "metadata": {
    "colab": {
      "provenance": []
    },
    "kernelspec": {
      "name": "python3",
      "display_name": "Python 3"
    },
    "language_info": {
      "name": "python"
    },
    "accelerator": "GPU",
    "gpuClass": "standard"
  },
  "cells": [
    {
      "cell_type": "markdown",
      "source": [
        "# <center> ECS6P9U/P/7026P"
      ],
      "metadata": {
        "id": "0QBR8aNWnr_t"
      }
    },
    {
      "cell_type": "markdown",
      "source": [
        "# <center> NEURAL NETWORKS & DEEP LEARNING"
      ],
      "metadata": {
        "id": "zg36EsLDnt3F"
      }
    },
    {
      "cell_type": "markdown",
      "source": [
        "<b><u>Author</u></b> : Lucas Berry\n",
        "\n",
        "<b><u>Student id</u></b> : 220296948"
      ],
      "metadata": {
        "id": "336cb3_intyr"
      }
    },
    {
      "cell_type": "markdown",
      "source": [
        "# <b> Part 1. Read dataset and create data loaders"
      ],
      "metadata": {
        "id": "URXO4jM0n0Wm"
      }
    },
    {
      "cell_type": "markdown",
      "source": [
        "## <center> <b> --- Installation ---"
      ],
      "metadata": {
        "id": "KoaQ4EKLn0hN"
      }
    },
    {
      "cell_type": "code",
      "source": [
        "!pip3 install torch torchvision torchaudio # Install PyTorch, torchvision, and torchaudio libraries\n",
        "print('\\033[1m\\033[92m' + 'Torch, torchvision and torchaudio are successfully installed' + '\\033[0m')  \n",
        "\n",
        "!pip install my_utils # Install the custom 'my_utils' library\n",
        "print('\\033[1m\\033[92m' + 'My utils is successfully installed' + '\\033[0m')  \n"
      ],
      "metadata": {
        "colab": {
          "base_uri": "https://localhost:8080/"
        },
        "id": "c4zhoWWAnrKA",
        "outputId": "c4803cea-bfd2-43e9-af00-3a2b4abbceec"
      },
      "execution_count": null,
      "outputs": [
        {
          "output_type": "stream",
          "name": "stdout",
          "text": [
            "Looking in indexes: https://pypi.org/simple, https://us-python.pkg.dev/colab-wheels/public/simple/\n",
            "Requirement already satisfied: torch in /usr/local/lib/python3.9/dist-packages (2.0.0+cu118)\n",
            "Requirement already satisfied: torchvision in /usr/local/lib/python3.9/dist-packages (0.15.1+cu118)\n",
            "Requirement already satisfied: torchaudio in /usr/local/lib/python3.9/dist-packages (2.0.1+cu118)\n",
            "Requirement already satisfied: typing-extensions in /usr/local/lib/python3.9/dist-packages (from torch) (4.5.0)\n",
            "Requirement already satisfied: filelock in /usr/local/lib/python3.9/dist-packages (from torch) (3.11.0)\n",
            "Requirement already satisfied: triton==2.0.0 in /usr/local/lib/python3.9/dist-packages (from torch) (2.0.0)\n",
            "Requirement already satisfied: jinja2 in /usr/local/lib/python3.9/dist-packages (from torch) (3.1.2)\n",
            "Requirement already satisfied: networkx in /usr/local/lib/python3.9/dist-packages (from torch) (3.1)\n",
            "Requirement already satisfied: sympy in /usr/local/lib/python3.9/dist-packages (from torch) (1.11.1)\n",
            "Requirement already satisfied: lit in /usr/local/lib/python3.9/dist-packages (from triton==2.0.0->torch) (16.0.1)\n",
            "Requirement already satisfied: cmake in /usr/local/lib/python3.9/dist-packages (from triton==2.0.0->torch) (3.25.2)\n",
            "Requirement already satisfied: pillow!=8.3.*,>=5.3.0 in /usr/local/lib/python3.9/dist-packages (from torchvision) (8.4.0)\n",
            "Requirement already satisfied: numpy in /usr/local/lib/python3.9/dist-packages (from torchvision) (1.22.4)\n",
            "Requirement already satisfied: requests in /usr/local/lib/python3.9/dist-packages (from torchvision) (2.27.1)\n",
            "Requirement already satisfied: MarkupSafe>=2.0 in /usr/local/lib/python3.9/dist-packages (from jinja2->torch) (2.1.2)\n",
            "Requirement already satisfied: certifi>=2017.4.17 in /usr/local/lib/python3.9/dist-packages (from requests->torchvision) (2022.12.7)\n",
            "Requirement already satisfied: charset-normalizer~=2.0.0 in /usr/local/lib/python3.9/dist-packages (from requests->torchvision) (2.0.12)\n",
            "Requirement already satisfied: urllib3<1.27,>=1.21.1 in /usr/local/lib/python3.9/dist-packages (from requests->torchvision) (1.26.15)\n",
            "Requirement already satisfied: idna<4,>=2.5 in /usr/local/lib/python3.9/dist-packages (from requests->torchvision) (3.4)\n",
            "Requirement already satisfied: mpmath>=0.19 in /usr/local/lib/python3.9/dist-packages (from sympy->torch) (1.3.0)\n",
            "\u001b[1m\u001b[92mTorch, torchvision and torchaudio are successfully installed\u001b[0m\n",
            "Looking in indexes: https://pypi.org/simple, https://us-python.pkg.dev/colab-wheels/public/simple/\n",
            "Collecting my_utils\n",
            "  Downloading my_utils-0.0.1-py3-none-any.whl (3.2 kB)\n",
            "Installing collected packages: my_utils\n",
            "Successfully installed my_utils-0.0.1\n",
            "\u001b[1m\u001b[92mMy utils is successfully installed\u001b[0m\n"
          ]
        }
      ]
    },
    {
      "cell_type": "markdown",
      "source": [
        "## <center> <b> --- Libraries ---"
      ],
      "metadata": {
        "id": "Dvx7wvNGCw0j"
      }
    },
    {
      "cell_type": "code",
      "source": [
        "import my_utils as mu \n",
        "import torch \n",
        "import numpy as np \n",
        "import torchvision \n",
        "import matplotlib.pyplot as plt \n",
        "from torch.utils.data import DataLoader #Part 1.\n",
        "from torchvision import datasets #Part 1.\n",
        "import torchvision.transforms as transforms #Part 1.\n",
        "from torch import nn #Part 2.\n",
        "import torch.optim as optim #Part 3.\n",
        "from torch.optim.lr_scheduler import ReduceLROnPlateau #Part 3."
      ],
      "metadata": {
        "id": "3CRcgc2NoDK2"
      },
      "execution_count": null,
      "outputs": []
    },
    {
      "cell_type": "code",
      "source": [
        "device = torch.device(\"cuda:0\" if torch.cuda.is_available() else \"cpu\") # Set the device (GPU or CPU)\n",
        "print('Device:', device)"
      ],
      "metadata": {
        "colab": {
          "base_uri": "https://localhost:8080/"
        },
        "id": "bYbf6QFKoRYy",
        "outputId": "5b6b58e3-1a64-4fd9-af0a-8a82c27a4bac"
      },
      "execution_count": null,
      "outputs": [
        {
          "output_type": "stream",
          "name": "stdout",
          "text": [
            "Device: cuda:0\n"
          ]
        }
      ]
    },
    {
      "cell_type": "markdown",
      "source": [
        "## <center> <b> --- Data preprocessing ---"
      ],
      "metadata": {
        "id": "r4AvEccfDJyP"
      }
    },
    {
      "cell_type": "code",
      "source": [
        "# Define the transformations to be applied to the images\n",
        "\n",
        "transform_train = transforms.Compose([\n",
        "    transforms.RandomCrop(32, padding=4), # Apply random cropping with padding\n",
        "    transforms.RandomHorizontalFlip(p=0.5), # Apply random horizontal flip\n",
        "    transforms.RandomAffine(degrees=15, translate=(0.1, 0.1), scale=(0.9, 1.1)), # Apply random affine transformation\n",
        "    transforms.ColorJitter(brightness=0.2, contrast=0.2, saturation=0.2), # Apply random colour jitter\n",
        "    transforms.ToTensor(), # Convert image to PyTorch tensor\n",
        "    transforms.Normalize((0.5, 0.5, 0.5), (0.5, 0.5, 0.5)) # Normalize the tensor\n",
        "])\n",
        "\n",
        "transform_test = transforms.Compose([\n",
        "    transforms.ToTensor(), \n",
        "    transforms.Normalize((0.5, 0.5, 0.5), (0.5, 0.5, 0.5)) \n",
        "])"
      ],
      "metadata": {
        "id": "VW0KFAdWoUKZ"
      },
      "execution_count": null,
      "outputs": []
    },
    {
      "cell_type": "markdown",
      "source": [
        "## <center> <b> --- Loading ---"
      ],
      "metadata": {
        "id": "JeiDkz0eDNRW"
      }
    },
    {
      "cell_type": "code",
      "source": [
        "# Download and load CIFAR-10\n",
        "traindataset = torchvision.datasets.CIFAR10(root='./data', train=True,\n",
        "                                            download=True, transform=transform_train) # Download and load CIFAR-10 train dataset\n",
        "\n",
        "trainset, valset = torch.utils.data.random_split(traindataset, [40000, 10000]) # Split the training dataset into train and validation sets\n",
        "\n",
        "print('The length of the trainset is \\033[1m\\033[31m' + str(len(trainset)) + \"\\033[0m\")  \n",
        "\n",
        "print('The length of the valset is \\033[1m\\033[31m' + str(len(valset)) + \"\\033[0m\")  \n",
        "\n",
        "testset = torchvision.datasets.CIFAR10(root='./data', train=False,\n",
        "                                       download=True, transform=transform_test) # Download and load CIFAR-10 test dataset\n",
        "\n",
        "print('The length of the testset is \\033[1m\\033[31m' + str(len(testset)) + \"\\033[0m\")  "
      ],
      "metadata": {
        "colab": {
          "base_uri": "https://localhost:8080/"
        },
        "id": "zpNxsJh9ofCv",
        "outputId": "5beeb896-17fc-4164-afdb-79a8ec332a89"
      },
      "execution_count": null,
      "outputs": [
        {
          "output_type": "stream",
          "name": "stdout",
          "text": [
            "Downloading https://www.cs.toronto.edu/~kriz/cifar-10-python.tar.gz to ./data/cifar-10-python.tar.gz\n"
          ]
        },
        {
          "output_type": "stream",
          "name": "stderr",
          "text": [
            "100%|██████████| 170498071/170498071 [00:03<00:00, 47631676.10it/s]\n"
          ]
        },
        {
          "output_type": "stream",
          "name": "stdout",
          "text": [
            "Extracting ./data/cifar-10-python.tar.gz to ./data\n",
            "The length of the trainset is \u001b[1m\u001b[31m40000\u001b[0m\n",
            "The length of the valset is \u001b[1m\u001b[31m10000\u001b[0m\n",
            "Files already downloaded and verified\n",
            "The length of the testset is \u001b[1m\u001b[31m10000\u001b[0m\n"
          ]
        }
      ]
    },
    {
      "cell_type": "code",
      "source": [
        "batch_size = 64 # Set the batch size\n",
        "print(\"The batch size is \\033[1m\\033[31m\"+ str(batch_size) + \"\\033[0m\")  \n",
        "num_workers = torch.cuda.device_count() # Get the number of workers as the number of available GPU devices\n",
        "print(\"The number of workers is \\033[1m\\033[31m\"+ str(num_workers) + \"\\033[0m\")  "
      ],
      "metadata": {
        "colab": {
          "base_uri": "https://localhost:8080/"
        },
        "id": "eZ_-TP3ppSh1",
        "outputId": "63dfeeb6-b099-49ec-885e-c7c141788798"
      },
      "execution_count": null,
      "outputs": [
        {
          "output_type": "stream",
          "name": "stdout",
          "text": [
            "The batch size is \u001b[1m\u001b[31m64\u001b[0m\n",
            "The number of workers is \u001b[1m\u001b[31m1\u001b[0m\n"
          ]
        }
      ]
    },
    {
      "cell_type": "code",
      "source": [
        "# Create data loaders for train, validation, and test sets\n",
        "\n",
        "trainloader = torch.utils.data.DataLoader(dataset=trainset, batch_size=batch_size, \n",
        "                                          shuffle=True, num_workers=num_workers)\n",
        "\n",
        "valloader = torch.utils.data.DataLoader(dataset=valset, batch_size=batch_size, \n",
        "                                        shuffle=False, num_workers=num_workers)\n",
        "\n",
        "testloader = torch.utils.data.DataLoader(dataset=testset, batch_size=batch_size,\n",
        "                                         shuffle=False, num_workers=num_workers)\n",
        "# Define the class names\n",
        "\n",
        "classes = ('plane', 'car', 'bird', 'cat', 'deer', 'dog', 'frog', 'horse', 'ship', 'truck')  "
      ],
      "metadata": {
        "id": "o0eBpr3Bpf8E"
      },
      "execution_count": null,
      "outputs": []
    },
    {
      "cell_type": "markdown",
      "source": [
        "## <center> <b> --- Visualizations ---"
      ],
      "metadata": {
        "id": "rlkpuTKAp0ik"
      }
    },
    {
      "cell_type": "code",
      "source": [
        "# Define a function to show an image\n",
        "def imshow(img):\n",
        "    img = img / 2 + 0.5     # unnormalize\n",
        "    npimg = img.numpy()  # Convert the image to a NumPy array\n",
        "    plt.imshow(np.transpose(npimg, (1, 2, 0)))  # Transpose and display the image\n",
        "    plt.show()\n",
        "\n",
        "# Get the first image for each class in the dataset\n",
        "sample_images = [traindataset.data[np.where(np.asarray(traindataset.targets) == label)[0][0]] for label in range(10)]\n",
        "\n",
        "# Show images for each class\n",
        "fig, axes = plt.subplots(1, 10, figsize=(20, 2))  \n",
        "fig.set_facecolor('#383838')  # Set the face colour of the subplot\n",
        "for i, ax in enumerate(axes.flat):  # Iterate through the axes\n",
        "    ax.set_xticks([])  \n",
        "    ax.set_yticks([])  \n",
        "    ax.set_xlabel(classes[i], fontsize=15, color='White')  \n",
        "    ax.imshow(sample_images[i])  \n",
        "    ax.patch.set_alpha(0)  \n",
        "\n",
        "plt.show()  \n"
      ],
      "metadata": {
        "colab": {
          "base_uri": "https://localhost:8080/",
          "height": 193
        },
        "id": "41HKi06HpsMj",
        "outputId": "01773f34-cc35-4cd5-f741-7e7789cad8da"
      },
      "execution_count": null,
      "outputs": [
        {
          "output_type": "display_data",
          "data": {
            "text/plain": [
              "<Figure size 2000x200 with 10 Axes>"
            ],
            "image/png": "[encoded data removed]"
          },
          "metadata": {}
        }
      ]
    },
    {
      "cell_type": "markdown",
      "source": [
        "# <b> Part 2. The Model"
      ],
      "metadata": {
        "id": "7glI9IiLDW_s"
      }
    },
    {
      "cell_type": "markdown",
      "source": [
        "## <center> <b> --- Architecture ---"
      ],
      "metadata": {
        "id": "rkRvLHDIDhOf"
      }
    },
    {
      "cell_type": "code",
      "source": [
        "class Block(nn.Module):  # Define the custom block class\n",
        "    def __init__(self, in_channels, out_channels, K, dropout_rate=0.5):\n",
        "        super(Block, self).__init__()  \n",
        "        self.avg_pool = nn.AdaptiveAvgPool2d(1)  # Adaptive average pooling layer\n",
        "        self.linear = nn.Linear(in_channels, K)  # Linear layer\n",
        "\n",
        "        # Create a list of convolutional layers with batch normalisation, ReLU activation, dropout, and another convolutional layer\n",
        "\n",
        "        self.convs = nn.ModuleList([nn.Sequential(\n",
        "            nn.Conv2d(in_channels, out_channels, kernel_size=3, padding=1),\n",
        "            nn.BatchNorm2d(out_channels),\n",
        "            nn.ReLU(),\n",
        "            nn.Dropout(dropout_rate),\n",
        "            nn.Conv2d(out_channels, out_channels, kernel_size=3, padding=1),\n",
        "            nn.BatchNorm2d(out_channels)) for _ in range(K)])\n",
        "        self.shortcut = nn.Sequential()  # Shortcut connection\n",
        "        if in_channels != out_channels:  # Check if input and output channels are different\n",
        "            self.shortcut = nn.Sequential(  # Update the shortcut connection\n",
        "                nn.Conv2d(in_channels, out_channels, kernel_size=1, stride=1, bias=False),\n",
        "                nn.BatchNorm2d(out_channels)\n",
        "            )\n",
        "        self.relu = nn.ReLU()  # ReLU activation function\n",
        "\n",
        "    def forward(self, x):  # Forward pass function\n",
        "        a = self.avg_pool(x)  # Apply the adaptive average pooling\n",
        "        a = a.view(a.size(0), -1)  # Flatten the tensor\n",
        "        a = self.linear(a)  # Apply the linear layer\n",
        "        a = torch.softmax(a, dim=1)  # Apply the softmax activation function\n",
        "\n",
        "        out = torch.zeros_like(self.convs[0](x)).to(x.device)  # Initialise the output tensor\n",
        "\n",
        "        for i, conv in enumerate(self.convs):  # Iterate through the convolutional layers\n",
        "            out += a[:, i].view(-1, 1, 1, 1) * conv(x)  # Add the weighted output of each layer\n",
        "\n",
        "        out += self.shortcut(x)  # Add the shortcut connection\n",
        "        return self.relu(out)  # Apply the ReLU activation function \n",
        "\n",
        "\n",
        "\n",
        "\n",
        "class Backbone(nn.Module):  # Define the custom backbone class\n",
        "    def __init__(self, in_channels, out_channels, K, N):\n",
        "        super(Backbone, self).__init__()  \n",
        "        # Create a sequence of blocks for the backbone\n",
        "        self.blocks = nn.Sequential(*[Block(in_channels if i == 0 else out_channels, out_channels, K) for i in range(N)])\n",
        "\n",
        "    def forward(self, x):  \n",
        "        return self.blocks(x)  # Apply the blocks \n",
        "\n",
        "\n",
        "\n",
        "\n",
        "class Classifier(nn.Module):  # Define the custom classifier class\n",
        "    def __init__(self, in_channels, num_classes):\n",
        "        super(Classifier, self).__init__()  \n",
        "        self.avg_pool = nn.AdaptiveAvgPool2d(1)  # Adaptive average pooling layer\n",
        "        self.fc = nn.Linear(in_channels, num_classes)  # Linear layer\n",
        "\n",
        "    def forward(self, x):  \n",
        "        x = self.avg_pool(x)  # Apply the adaptive average pooling\n",
        "        x = x.view(x.size(0), -1)  # Flatten the tensor\n",
        "        return self.fc(x)  # Apply the linear layer and return the output\n",
        "\n",
        "\n",
        "\n",
        "\n",
        "class Net(nn.Module):  # Define the custom Net class\n",
        "    def __init__(self, K, N, channels, num_classes=10):\n",
        "        super(Net, self).__init__()  \n",
        "        self.backbone = Backbone(3, channels, K, N)  # Instantiate the custom backbone\n",
        "        self.classifier = Classifier(channels, num_classes)  # Instantiate the custom classifier\n",
        "\n",
        "    def forward(self, x):  \n",
        "        x = self.backbone(x)  # Apply the backbone to the input\n",
        "        x = self.classifier(x)  # Apply the classifier to the output of the backbone\n",
        "        return x  "
      ],
      "metadata": {
        "id": "P_f0ToE1p-Ig"
      },
      "execution_count": null,
      "outputs": []
    },
    {
      "cell_type": "markdown",
      "source": [
        "## <center> <b> --- Model's complexity ---"
      ],
      "metadata": {
        "id": "CZ3piypTEgZV"
      }
    },
    {
      "cell_type": "code",
      "source": [
        "# Define K, N, and channels values\n",
        "\n",
        "K = 3  # The number of parallel convolutional layers in each block\n",
        "N = 3  # The number of blocks in the backbone\n",
        "channels = 128  # The number of channels, it affects the model capacity"
      ],
      "metadata": {
        "id": "wrzvaewjrLDH"
      },
      "execution_count": null,
      "outputs": []
    },
    {
      "cell_type": "markdown",
      "source": [
        "## <center> <b> --- Model's design  ---"
      ],
      "metadata": {
        "id": "2CqyY9CQEpwN"
      }
    },
    {
      "cell_type": "code",
      "source": [
        "net = Net(K, N, channels).to(device)  # Instantiate the Net class and move it to the device \n",
        "print(net)"
      ],
      "metadata": {
        "id": "071fbIpw23Al",
        "colab": {
          "base_uri": "https://localhost:8080/"
        },
        "outputId": "05ab08e5-43bb-4119-d03f-8dc15ea7f91d"
      },
      "execution_count": null,
      "outputs": [
        {
          "output_type": "stream",
          "name": "stdout",
          "text": [
            "Net(\n",
            "  (backbone): Backbone(\n",
            "    (blocks): Sequential(\n",
            "      (0): Block(\n",
            "        (avg_pool): AdaptiveAvgPool2d(output_size=1)\n",
            "        (linear): Linear(in_features=3, out_features=3, bias=True)\n",
            "        (convs): ModuleList(\n",
            "          (0-2): 3 x Sequential(\n",
            "            (0): Conv2d(3, 128, kernel_size=(3, 3), stride=(1, 1), padding=(1, 1))\n",
            "            (1): BatchNorm2d(128, eps=1e-05, momentum=0.1, affine=True, track_running_stats=True)\n",
            "            (2): ReLU()\n",
            "            (3): Dropout(p=0.5, inplace=False)\n",
            "            (4): Conv2d(128, 128, kernel_size=(3, 3), stride=(1, 1), padding=(1, 1))\n",
            "            (5): BatchNorm2d(128, eps=1e-05, momentum=0.1, affine=True, track_running_stats=True)\n",
            "          )\n",
            "        )\n",
            "        (shortcut): Sequential(\n",
            "          (0): Conv2d(3, 128, kernel_size=(1, 1), stride=(1, 1), bias=False)\n",
            "          (1): BatchNorm2d(128, eps=1e-05, momentum=0.1, affine=True, track_running_stats=True)\n",
            "        )\n",
            "        (relu): ReLU()\n",
            "      )\n",
            "      (1): Block(\n",
            "        (avg_pool): AdaptiveAvgPool2d(output_size=1)\n",
            "        (linear): Linear(in_features=128, out_features=3, bias=True)\n",
            "        (convs): ModuleList(\n",
            "          (0-2): 3 x Sequential(\n",
            "            (0): Conv2d(128, 128, kernel_size=(3, 3), stride=(1, 1), padding=(1, 1))\n",
            "            (1): BatchNorm2d(128, eps=1e-05, momentum=0.1, affine=True, track_running_stats=True)\n",
            "            (2): ReLU()\n",
            "            (3): Dropout(p=0.5, inplace=False)\n",
            "            (4): Conv2d(128, 128, kernel_size=(3, 3), stride=(1, 1), padding=(1, 1))\n",
            "            (5): BatchNorm2d(128, eps=1e-05, momentum=0.1, affine=True, track_running_stats=True)\n",
            "          )\n",
            "        )\n",
            "        (shortcut): Sequential()\n",
            "        (relu): ReLU()\n",
            "      )\n",
            "      (2): Block(\n",
            "        (avg_pool): AdaptiveAvgPool2d(output_size=1)\n",
            "        (linear): Linear(in_features=128, out_features=3, bias=True)\n",
            "        (convs): ModuleList(\n",
            "          (0-2): 3 x Sequential(\n",
            "            (0): Conv2d(128, 128, kernel_size=(3, 3), stride=(1, 1), padding=(1, 1))\n",
            "            (1): BatchNorm2d(128, eps=1e-05, momentum=0.1, affine=True, track_running_stats=True)\n",
            "            (2): ReLU()\n",
            "            (3): Dropout(p=0.5, inplace=False)\n",
            "            (4): Conv2d(128, 128, kernel_size=(3, 3), stride=(1, 1), padding=(1, 1))\n",
            "            (5): BatchNorm2d(128, eps=1e-05, momentum=0.1, affine=True, track_running_stats=True)\n",
            "          )\n",
            "        )\n",
            "        (shortcut): Sequential()\n",
            "        (relu): ReLU()\n",
            "      )\n",
            "    )\n",
            "  )\n",
            "  (classifier): Classifier(\n",
            "    (avg_pool): AdaptiveAvgPool2d(output_size=1)\n",
            "    (fc): Linear(in_features=128, out_features=10, bias=True)\n",
            "  )\n",
            ")\n"
          ]
        }
      ]
    },
    {
      "cell_type": "markdown",
      "source": [
        "# <b> Part 3. Loss, Optimizer and Scheduler"
      ],
      "metadata": {
        "id": "Y6sF0m10FCht"
      }
    },
    {
      "cell_type": "code",
      "source": [
        "criterion = nn.CrossEntropyLoss()  # Use the cross-entropy loss \n",
        "\n",
        "optimizer = optim.Adam(net.parameters(), lr=0.01, weight_decay=0)  # Adam Optimizer with a learning rate of 0.01 and no weight decay\n",
        "\n",
        "scheduler = ReduceLROnPlateau(optimizer, mode='min', factor=0.1, patience=5, verbose=True)  # ReduceLROnPlateau scheduler reduces learning rate when validation loss plateaus"
      ],
      "metadata": {
        "id": "xe_L0aNLrbKA"
      },
      "execution_count": null,
      "outputs": []
    },
    {
      "cell_type": "markdown",
      "source": [
        "# <b> Part 4. Training and Evaluation\n",
        "\n"
      ],
      "metadata": {
        "id": "EY3Tty5xsnee"
      }
    },
    {
      "cell_type": "markdown",
      "source": [
        "## <center> <b> --- Script ---"
      ],
      "metadata": {
        "id": "zVCTJ_HhFTv0"
      }
    },
    {
      "cell_type": "code",
      "source": [
        "num_epochs = 150  # Number of training epochs\n",
        "patience = 10 # Early stopping parameters\n",
        "counter = 0 # Early stopping parameters\n",
        "best_val_loss = None # Early stopping parameters\n",
        "\n",
        "# Initialise lists to store loss and accuracy values\n",
        "\n",
        "train_losses = []\n",
        "train_accuracies = []\n",
        "val_losses = []\n",
        "val_accuracies = []\n",
        "\n",
        "# Function to calculate accuracy\n",
        "\n",
        "def accuracy(output, target):\n",
        "    _, pred = torch.max(output, 1)  # Get the class with the highest probability\n",
        "    correct = pred.eq(target).sum().item()  # Count the number of correct predictions\n",
        "    return correct / target.size(0)  # Calculate the accuracy and return it\n",
        "\n",
        "for epoch in range(num_epochs):  # Loop through the number of epochs\n",
        "    net.train()  # Set the model to training mode\n",
        "    running_loss = 0.0  # Initialize running loss to 0\n",
        "    running_acc = 0.0  # Initialize running accuracy to 0\n",
        "    for i, (inputs, labels) in enumerate(trainloader, 0):  # Loop through batches of the training data\n",
        "        inputs, labels = inputs.to(device), labels.to(device)  # Move the inputs and labels to the device\n",
        "\n",
        "        optimizer.zero_grad()  # Set the gradients to zero\n",
        "\n",
        "        outputs = net(inputs)  # Forward pass through the model\n",
        "        loss = criterion(outputs, labels)  # Calculate the loss\n",
        "        loss.backward()  # Perform backpropagation\n",
        "        optimizer.step()  # Update the model weights\n",
        "\n",
        "        running_loss += loss.item()  # Update running loss\n",
        "        running_acc += accuracy(outputs, labels)  # Update running accuracy\n",
        "\n",
        "    train_loss = running_loss / (i + 1)  # Calculate the average training loss\n",
        "    train_acc = running_acc / (i + 1)  # Calculate the average training accuracy\n",
        "\n",
        "    train_losses.append(train_loss)\n",
        "    train_accuracies.append(train_acc)\n",
        "\n",
        "    # Validation loop\n",
        "\n",
        "    net.eval()  # Set the model to evaluation mode\n",
        "    running_val_loss = 0.0  # Initialize running validation loss to 0\n",
        "    running_val_acc = 0.0  \n",
        "    with torch.no_grad():  # Disable gradient calculation to save memory and speed up the evaluation process\n",
        "        for i, (inputs, labels) in enumerate(valloader, 0):  # Loop through batches of the validation data\n",
        "            inputs, labels = inputs.to(device), labels.to(device)  # Move the inputs and labels to the device (GPU or CPU)\n",
        "\n",
        "            outputs = net(inputs)  # Forward pass through the model\n",
        "            loss = criterion(outputs, labels)  # Calculate the loss\n",
        "\n",
        "            running_val_loss += loss.item()  # Update running validation loss\n",
        "            running_val_acc += accuracy(outputs, labels)  # Update running validation accuracy\n",
        "\n",
        "    val_loss = running_val_loss / (i + 1)  # Calculate the average validation loss\n",
        "    val_acc = running_val_acc / (i + 1)  # Calculate the average validation accuracy\n",
        "\n",
        "    val_losses.append(val_loss)\n",
        "    val_accuracies.append(val_acc)\n",
        "\n",
        "    # Update the learning rate using the scheduler\n",
        "\n",
        "    scheduler.step(val_loss)  # Update learning rate based on the validation loss\n",
        "\n",
        "\n",
        "    print(f\"Epoch {epoch + 1}/{num_epochs}, \"\n",
        "          f\"Train Loss: {train_loss:.4f}, Train Acc: {train_acc:.4f}, \"\n",
        "          f\"Val Loss: {val_loss:.4f}, Val Acc: {val_acc:.4f}\")\n",
        "\n",
        "    # Early stopping\n",
        "    if best_val_loss is None:\n",
        "        best_val_loss = val_loss\n",
        "    elif val_loss < best_val_loss:\n",
        "        best_val_loss = val_loss\n",
        "        counter = 0\n",
        "    else:\n",
        "        counter += 1\n",
        "\n",
        "    if counter >= patience:\n",
        "        print(\"Early stopping triggered\")\n",
        "        break   "
      ],
      "metadata": {
        "colab": {
          "base_uri": "https://localhost:8080/"
        },
        "id": "6wkhGh81r9Wp",
        "outputId": "08ade1a7-95e1-4355-a7a9-4c7ffa99a95d"
      },
      "execution_count": null,
      "outputs": [
        {
          "output_type": "stream",
          "name": "stdout",
          "text": [
            "Epoch 1/150, Train Loss: 1.7130, Train Acc: 0.3549, Val Loss: 1.5178, Val Acc: 0.4364\n",
            "Epoch 2/150, Train Loss: 1.3774, Train Acc: 0.4981, Val Loss: 1.2711, Val Acc: 0.5290\n",
            "Epoch 3/150, Train Loss: 1.2079, Train Acc: 0.5629, Val Loss: 1.2096, Val Acc: 0.5668\n",
            "Epoch 4/150, Train Loss: 1.0889, Train Acc: 0.6073, Val Loss: 1.0145, Val Acc: 0.6382\n",
            "Epoch 5/150, Train Loss: 1.0113, Train Acc: 0.6405, Val Loss: 0.9759, Val Acc: 0.6538\n",
            "Epoch 6/150, Train Loss: 0.9474, Train Acc: 0.6648, Val Loss: 0.9051, Val Acc: 0.6794\n",
            "Epoch 7/150, Train Loss: 0.8941, Train Acc: 0.6849, Val Loss: 0.9187, Val Acc: 0.6761\n",
            "Epoch 8/150, Train Loss: 0.8486, Train Acc: 0.6989, Val Loss: 0.8240, Val Acc: 0.7105\n",
            "Epoch 9/150, Train Loss: 0.8029, Train Acc: 0.7201, Val Loss: 0.8739, Val Acc: 0.6944\n",
            "Epoch 10/150, Train Loss: 0.7716, Train Acc: 0.7272, Val Loss: 0.7927, Val Acc: 0.7222\n",
            "Epoch 11/150, Train Loss: 0.7484, Train Acc: 0.7369, Val Loss: 0.7809, Val Acc: 0.7356\n",
            "Epoch 12/150, Train Loss: 0.7148, Train Acc: 0.7500, Val Loss: 0.7581, Val Acc: 0.7317\n",
            "Epoch 13/150, Train Loss: 0.6891, Train Acc: 0.7575, Val Loss: 0.7324, Val Acc: 0.7520\n",
            "Epoch 14/150, Train Loss: 0.6656, Train Acc: 0.7663, Val Loss: 0.7330, Val Acc: 0.7471\n",
            "Epoch 15/150, Train Loss: 0.6478, Train Acc: 0.7747, Val Loss: 0.6607, Val Acc: 0.7713\n",
            "Epoch 16/150, Train Loss: 0.6267, Train Acc: 0.7798, Val Loss: 0.6899, Val Acc: 0.7646\n",
            "Epoch 17/150, Train Loss: 0.6062, Train Acc: 0.7872, Val Loss: 0.7017, Val Acc: 0.7644\n",
            "Epoch 18/150, Train Loss: 0.5995, Train Acc: 0.7915, Val Loss: 0.6476, Val Acc: 0.7745\n",
            "Epoch 19/150, Train Loss: 0.5817, Train Acc: 0.7972, Val Loss: 0.6913, Val Acc: 0.7688\n",
            "Epoch 20/150, Train Loss: 0.5690, Train Acc: 0.8002, Val Loss: 0.5998, Val Acc: 0.7912\n",
            "Epoch 21/150, Train Loss: 0.5519, Train Acc: 0.8065, Val Loss: 0.6314, Val Acc: 0.7864\n",
            "Epoch 22/150, Train Loss: 0.5349, Train Acc: 0.8109, Val Loss: 0.6683, Val Acc: 0.7765\n",
            "Epoch 23/150, Train Loss: 0.5318, Train Acc: 0.8148, Val Loss: 0.5924, Val Acc: 0.7999\n",
            "Epoch 24/150, Train Loss: 0.5128, Train Acc: 0.8202, Val Loss: 0.6214, Val Acc: 0.7901\n",
            "Epoch 25/150, Train Loss: 0.5082, Train Acc: 0.8221, Val Loss: 0.6312, Val Acc: 0.7901\n",
            "Epoch 26/150, Train Loss: 0.4936, Train Acc: 0.8264, Val Loss: 0.5766, Val Acc: 0.8114\n",
            "Epoch 27/150, Train Loss: 0.4802, Train Acc: 0.8334, Val Loss: 0.6167, Val Acc: 0.7957\n",
            "Epoch 28/150, Train Loss: 0.4682, Train Acc: 0.8351, Val Loss: 0.5689, Val Acc: 0.8110\n",
            "Epoch 29/150, Train Loss: 0.4700, Train Acc: 0.8347, Val Loss: 0.5712, Val Acc: 0.8061\n",
            "Epoch 30/150, Train Loss: 0.4650, Train Acc: 0.8361, Val Loss: 0.5637, Val Acc: 0.8079\n",
            "Epoch 31/150, Train Loss: 0.4490, Train Acc: 0.8423, Val Loss: 0.5518, Val Acc: 0.8158\n",
            "Epoch 32/150, Train Loss: 0.4457, Train Acc: 0.8436, Val Loss: 0.5773, Val Acc: 0.8084\n",
            "Epoch 33/150, Train Loss: 0.4291, Train Acc: 0.8495, Val Loss: 0.5657, Val Acc: 0.8155\n",
            "Epoch 34/150, Train Loss: 0.4250, Train Acc: 0.8504, Val Loss: 0.5905, Val Acc: 0.8103\n",
            "Epoch 35/150, Train Loss: 0.4227, Train Acc: 0.8521, Val Loss: 0.5890, Val Acc: 0.8068\n",
            "Epoch 36/150, Train Loss: 0.4146, Train Acc: 0.8524, Val Loss: 0.5326, Val Acc: 0.8197\n",
            "Epoch 37/150, Train Loss: 0.4108, Train Acc: 0.8559, Val Loss: 0.5898, Val Acc: 0.8019\n",
            "Epoch 38/150, Train Loss: 0.3967, Train Acc: 0.8622, Val Loss: 0.5539, Val Acc: 0.8180\n",
            "Epoch 39/150, Train Loss: 0.3945, Train Acc: 0.8608, Val Loss: 0.5441, Val Acc: 0.8150\n",
            "Epoch 40/150, Train Loss: 0.3915, Train Acc: 0.8617, Val Loss: 0.5169, Val Acc: 0.8255\n",
            "Epoch 41/150, Train Loss: 0.3815, Train Acc: 0.8660, Val Loss: 0.5310, Val Acc: 0.8177\n",
            "Epoch 42/150, Train Loss: 0.3817, Train Acc: 0.8662, Val Loss: 0.4885, Val Acc: 0.8333\n",
            "Epoch 43/150, Train Loss: 0.3772, Train Acc: 0.8688, Val Loss: 0.5453, Val Acc: 0.8193\n",
            "Epoch 44/150, Train Loss: 0.3650, Train Acc: 0.8719, Val Loss: 0.5675, Val Acc: 0.8145\n",
            "Epoch 45/150, Train Loss: 0.3607, Train Acc: 0.8722, Val Loss: 0.5449, Val Acc: 0.8250\n",
            "Epoch 46/150, Train Loss: 0.3588, Train Acc: 0.8747, Val Loss: 0.4989, Val Acc: 0.8338\n",
            "Epoch 47/150, Train Loss: 0.3587, Train Acc: 0.8739, Val Loss: 0.4787, Val Acc: 0.8433\n",
            "Epoch 48/150, Train Loss: 0.3492, Train Acc: 0.8764, Val Loss: 0.5004, Val Acc: 0.8345\n",
            "Epoch 49/150, Train Loss: 0.3431, Train Acc: 0.8787, Val Loss: 0.5563, Val Acc: 0.8222\n",
            "Epoch 50/150, Train Loss: 0.3415, Train Acc: 0.8800, Val Loss: 0.5155, Val Acc: 0.8293\n",
            "Epoch 51/150, Train Loss: 0.3322, Train Acc: 0.8843, Val Loss: 0.5124, Val Acc: 0.8370\n",
            "Epoch 52/150, Train Loss: 0.3309, Train Acc: 0.8822, Val Loss: 0.5165, Val Acc: 0.8304\n",
            "Epoch 53/150, Train Loss: 0.3234, Train Acc: 0.8852, Val Loss: 0.4752, Val Acc: 0.8430\n",
            "Epoch 54/150, Train Loss: 0.3222, Train Acc: 0.8860, Val Loss: 0.4811, Val Acc: 0.8428\n",
            "Epoch 55/150, Train Loss: 0.3168, Train Acc: 0.8877, Val Loss: 0.5285, Val Acc: 0.8269\n",
            "Epoch 56/150, Train Loss: 0.3154, Train Acc: 0.8882, Val Loss: 0.4806, Val Acc: 0.8414\n",
            "Epoch 57/150, Train Loss: 0.3173, Train Acc: 0.8872, Val Loss: 0.4977, Val Acc: 0.8389\n",
            "Epoch 58/150, Train Loss: 0.3003, Train Acc: 0.8957, Val Loss: 0.4709, Val Acc: 0.8395\n",
            "Epoch 59/150, Train Loss: 0.3080, Train Acc: 0.8915, Val Loss: 0.5364, Val Acc: 0.8362\n",
            "Epoch 60/150, Train Loss: 0.3073, Train Acc: 0.8909, Val Loss: 0.4666, Val Acc: 0.8446\n",
            "Epoch 61/150, Train Loss: 0.2938, Train Acc: 0.8949, Val Loss: 0.5371, Val Acc: 0.8327\n",
            "Epoch 62/150, Train Loss: 0.2993, Train Acc: 0.8921, Val Loss: 0.5562, Val Acc: 0.8300\n",
            "Epoch 63/150, Train Loss: 0.2988, Train Acc: 0.8952, Val Loss: 0.5239, Val Acc: 0.8364\n",
            "Epoch 64/150, Train Loss: 0.2891, Train Acc: 0.8970, Val Loss: 0.5035, Val Acc: 0.8377\n",
            "Epoch 65/150, Train Loss: 0.2900, Train Acc: 0.8973, Val Loss: 0.5465, Val Acc: 0.8341\n",
            "Epoch 00066: reducing learning rate of group 0 to 1.0000e-03.\n",
            "Epoch 66/150, Train Loss: 0.2876, Train Acc: 0.8991, Val Loss: 0.5097, Val Acc: 0.8454\n",
            "Epoch 67/150, Train Loss: 0.2116, Train Acc: 0.9242, Val Loss: 0.4209, Val Acc: 0.8607\n",
            "Epoch 68/150, Train Loss: 0.1853, Train Acc: 0.9346, Val Loss: 0.4418, Val Acc: 0.8634\n",
            "Epoch 69/150, Train Loss: 0.1784, Train Acc: 0.9376, Val Loss: 0.4265, Val Acc: 0.8642\n",
            "Epoch 70/150, Train Loss: 0.1717, Train Acc: 0.9396, Val Loss: 0.4241, Val Acc: 0.8670\n",
            "Epoch 71/150, Train Loss: 0.1740, Train Acc: 0.9386, Val Loss: 0.4259, Val Acc: 0.8681\n",
            "Epoch 72/150, Train Loss: 0.1652, Train Acc: 0.9426, Val Loss: 0.4129, Val Acc: 0.8694\n",
            "Epoch 73/150, Train Loss: 0.1620, Train Acc: 0.9429, Val Loss: 0.4318, Val Acc: 0.8670\n",
            "Epoch 74/150, Train Loss: 0.1593, Train Acc: 0.9434, Val Loss: 0.4274, Val Acc: 0.8703\n",
            "Epoch 75/150, Train Loss: 0.1587, Train Acc: 0.9450, Val Loss: 0.4292, Val Acc: 0.8642\n",
            "Epoch 76/150, Train Loss: 0.1572, Train Acc: 0.9447, Val Loss: 0.4307, Val Acc: 0.8690\n",
            "Epoch 77/150, Train Loss: 0.1596, Train Acc: 0.9430, Val Loss: 0.4380, Val Acc: 0.8664\n",
            "Epoch 00078: reducing learning rate of group 0 to 1.0000e-04.\n",
            "Epoch 78/150, Train Loss: 0.1524, Train Acc: 0.9462, Val Loss: 0.4336, Val Acc: 0.8684\n",
            "Epoch 79/150, Train Loss: 0.1473, Train Acc: 0.9482, Val Loss: 0.4435, Val Acc: 0.8667\n",
            "Epoch 80/150, Train Loss: 0.1399, Train Acc: 0.9517, Val Loss: 0.4391, Val Acc: 0.8701\n",
            "Epoch 81/150, Train Loss: 0.1421, Train Acc: 0.9496, Val Loss: 0.4368, Val Acc: 0.8690\n",
            "Epoch 82/150, Train Loss: 0.1435, Train Acc: 0.9508, Val Loss: 0.4268, Val Acc: 0.8739\n",
            "Early stopping triggered\n"
          ]
        }
      ]
    },
    {
      "cell_type": "markdown",
      "source": [
        "## <center> <b> --- Visualizations ---"
      ],
      "metadata": {
        "id": "Dt1mHKEmFO7e"
      }
    },
    {
      "cell_type": "code",
      "source": [
        "# Plot loss and accuracy\n",
        "plt.figure(figsize=(12, 4))\n",
        "plt.subplot(1, 2, 1)\n",
        "plt.plot(train_losses, label='Train Loss')\n",
        "plt.plot(val_losses, label='Val Loss')\n",
        "plt.xlabel('Epoch')\n",
        "plt.ylabel('Loss')\n",
        "plt.legend()\n",
        "\n",
        "plt.subplot(1, 2, 2)\n",
        "plt.plot(train_accuracies, label='Train Acc')\n",
        "plt.plot(val_accuracies, label='Val Acc')\n",
        "plt.xlabel('Epoch')\n",
        "plt.ylabel('Accuracy')\n",
        "plt.legend()\n",
        "\n",
        "plt.show()"
      ],
      "metadata": {
        "id": "I7hI5CXfshCm",
        "colab": {
          "base_uri": "https://localhost:8080/",
          "height": 388
        },
        "outputId": "3cf8c1c4-1cff-465f-c02a-53b316775c2e"
      },
      "execution_count": null,
      "outputs": [
        {
          "output_type": "display_data",
          "data": {
            "text/plain": [
              "<Figure size 1200x400 with 2 Axes>"
            ],
            "image/png": "[encoded data removed]"
          },
          "metadata": {}
        }
      ]
    },
    {
      "cell_type": "markdown",
      "source": [
        "## <center> <b> --- Accuracy ---"
      ],
      "metadata": {
        "id": "8T7rDy5QFZ2U"
      }
    },
    {
      "cell_type": "code",
      "source": [
        "pred_vec_train = []  # Initialise a list to store predicted labels for training set\n",
        "correct_train = 0  # Initialise a counter for the number of correct predictions for training set\n",
        "net.eval()  # Set the model to evaluation mode (disables dropout and batch normalisation during inference)\n",
        "\n",
        "with torch.no_grad():  \n",
        "    for data in trainloader:  # Iterate through the train dataset in batches\n",
        "        batch, labels = data  # Split the data into inputs and ground truth labels\n",
        "        batch, labels = batch.to(device), labels.to(device)  # Move the data to the target device \n",
        "        outputs = net(batch)  # Forward pass the inputs through the network to get the predictions\n",
        "        _, predicted = torch.max(outputs, 1)  # Get the predicted class by selecting the class with the highest score\n",
        "        correct_train += (predicted == labels).sum().item()  # Increment the correct counter if the predicted class matches the ground truth label\n",
        "        pred_vec_train.append(predicted)  # Append the predicted labels to the pred_vec_train list\n",
        "    pred_vec_train = torch.cat(pred_vec_train)  # Concatenate the predicted labels into a single tensor\n",
        "\n",
        "print('Train Accuracy: %.2f %%' % (100 * correct_train / len(trainset)))  # Calculate and print the accuracy on the train set\n"
      ],
      "metadata": {
        "colab": {
          "base_uri": "https://localhost:8080/"
        },
        "id": "mV2JYOlPZqxI",
        "outputId": "6ecad758-b62f-45d8-b592-14ddf25653ed"
      },
      "execution_count": null,
      "outputs": [
        {
          "output_type": "stream",
          "name": "stdout",
          "text": [
            "Train Accuracy: 96.78 %\n"
          ]
        }
      ]
    },
    {
      "cell_type": "markdown",
      "source": [
        "# <b> Part 5. Testing"
      ],
      "metadata": {
        "id": "VvWI1yWKFeN7"
      }
    },
    {
      "cell_type": "markdown",
      "source": [
        "## <center> <b> --- Accuracy ---"
      ],
      "metadata": {
        "id": "gthnrLhzFeaP"
      }
    },
    {
      "cell_type": "code",
      "source": [
        "pred_vec = []  \n",
        "correct = 0  \n",
        "net.eval()  \n",
        "\n",
        "with torch.no_grad():  \n",
        "    for data in testloader:  \n",
        "        batch, labels = data  \n",
        "        batch, labels = batch.to(device), labels.to(device) \n",
        "        outputs = net(batch)  \n",
        "        _, predicted = torch.max(outputs, 1)  \n",
        "        correct += (predicted == labels).sum().item()  \n",
        "        pred_vec.append(predicted)  \n",
        "    pred_vec = torch.cat(pred_vec)  \n",
        "\n",
        "print('Test Accuracy: %.2f %%' % (100 * correct / len(testset)))  \n"
      ],
      "metadata": {
        "colab": {
          "base_uri": "https://localhost:8080/"
        },
        "id": "PyclMG5lEjqj",
        "outputId": "e9790a2b-8506-436a-f83c-8ad90fd4adf0"
      },
      "execution_count": null,
      "outputs": [
        {
          "output_type": "stream",
          "name": "stdout",
          "text": [
            "Test Accuracy: 88.48 %\n"
          ]
        }
      ]
    },
    {
      "cell_type": "markdown",
      "source": [
        "# <b> References"
      ],
      "metadata": {
        "id": "kz1wkNfI3wl5"
      }
    },
    {
      "cell_type": "markdown",
      "source": [
        "[1] PyTorch. 2021. PyTorch Documentation | PyTorch 1.9.1. [online] Available at: https://pytorch.org/docs/stable/index.html\n",
        "\n",
        "[2] PyTorch. 2021. torchvision.datasets.CIFAR10 | PyTorch Vision 0.10.1. [online] Available at: https://pytorch.org/vision/stable/generated/torchvision.datasets.CIFAR10.html#torchvision.datasets.CIFAR10\n",
        "\n",
        "[3] PyTorch. 2021. torch.optim.lr_scheduler.ReduceLROnPlateau | PyTorch 1.9.1. [online] Available at: https://pytorch.org/docs/stable/generated/torch.optim.lr_scheduler.ReduceLROnPlateau.html\n",
        "\n",
        "[4] Educative. 2023. What is Early Stopping? | Educative. [online] Available at: https://www.educative.io/answers/what-is-early-stopping\n",
        "\n",
        "[5] Analytics Vidhya. 2022. How to Classify the Images of the CIFAR-10 Dataset Using CNN | Analytics Vidhya. [online] Available at: https://www.analyticsvidhya.com/blog/2022/09/how-to-classify-the-images-of-the-cifar-10-dataset-using-cnn/#:~:text=CIFAR%2D10%20dataset%20comprises%2060%2C000,categories%20and%2010%2C000%20test%20images."
      ],
      "metadata": {
        "id": "lQgcvJM-3xHp"
      }
    }
  ]
}